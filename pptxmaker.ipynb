{
 "cells": [
  {
   "cell_type": "code",
   "execution_count": 1,
   "metadata": {},
   "outputs": [],
   "source": [
    "from pptx import Presentation\n",
    "from pptx.util import Inches, Pt\n",
    "from pptx.enum.text import PP_ALIGN\n",
    "from pptx.dml.color import RGBColor\n",
    "import pandas as pd\n",
    "import random\n",
    "import os"
   ]
  },
  {
   "cell_type": "code",
   "execution_count": 2,
   "metadata": {},
   "outputs": [],
   "source": [
    "#ไฟล์ excel ที่เราต้องการจะดึงข้อมูลมาทำ point\n",
    "dataframe = pd.read_excel(\"D:/pptxmaker/สมุดงาน1.xlsx\")\n",
    "#ไฟล์ power point ที่เราโหลดเทมเพลตมา ถ้าเป็นจะสร้างเป็น point ใหม่ไม่มีเทมเพลตไรเลยก็เว้น () เปล่าๆไว้\n",
    "prs = Presentation(\"D:/pptxmaker/Online-Doctor-Medical-PowerPoint-Templates.pptx\")\n",
    "slide_layout = prs.slide_layouts[0]"
   ]
  },
  {
   "cell_type": "code",
   "execution_count": 3,
   "metadata": {},
   "outputs": [],
   "source": [
    "def iconinsert(kw,folder):\n",
    "    if kw in tf.text:\n",
    "        files = os.listdir(folder)\n",
    "        ran = random.choice(files)\n",
    "        genre = str(folder).replace(\"D:/pptxmaker/icon/\",\"\")\n",
    "        path = str(os.path.abspath(ran)).replace(\"C:\\\\Users\\\\DELL NB\\\\\",str(\"D:/pptxmaker/icon/\"+ genre +\"/\"))\n",
    "        left = top = Inches(1)\n",
    "        height = Inches(6)\n",
    "        icon = slide.shapes.add_picture(path,left,top,height)\n",
    "        \n",
    "#ตรงนี้คือการสุ่มภาพไปตกแต่งพ้อยตามคีย์เวิร์ด ซึ่งเราจะต้องสร้างโฟลเดอร์ในเครื่องเราสำหรับใส่รูปที่เราอยากใส่ เหมาะสำหรับคำที่ใช้บ่อยๆในการทำพ้อย\n",
    "#อย่างเช่น อันแรกคือถ้ามี keyword คำว่า \"ยา\" ให้ใส่ภาพยาซึ่งอยู่ในโฟลเดอร์ D:/pptxmaker/icon/medicine\n",
    "def icondict():\n",
    "    iconinsert(\"ยา\",\"D:/pptxmaker/icon/medicine\")\n",
    "    iconinsert(\"แพทย์\",\"D:/pptxmaker/icon/doctor\")\n",
    "    iconinsert(\"เชื้อ\",\"D:/pptxmaker/icon/infection\")\n",
    "    iconinsert(\"หัวใจ\",\"D:/pptxmaker/icon/heart\")"
   ]
  },
  {
   "cell_type": "code",
   "execution_count": 4,
   "metadata": {
    "scrolled": true
   },
   "outputs": [],
   "source": [
    "for row in dataframe[\"content\"]:\n",
    "    slide = prs.slides.add_slide(slide_layout)\n",
    "    shapes = slide.shapes\n",
    "    \n",
    "    left = top = Inches(1)\n",
    "    width = Inches(8) \n",
    "    height = Inches(6)\n",
    "    txBox = slide.shapes.add_textbox(left,top,width,height)\n",
    "    tf = txBox.text_frame\n",
    "    tf.alignment = PP_ALIGN.LEFT\n",
    "    \n",
    "    p = tf.paragraphs[0]\n",
    "    run = p.add_run()\n",
    "    run.text = row\n",
    "    font = run.font\n",
    "    #ตรงนี้เราสามารถปรับฟ้อนต์, ขนาด, สี ของตัวหนังสือที่เราจะให้มันใส่ในพ้อยได้\n",
    "    font.name = \"JasmineUPC\"\n",
    "    font.size = Pt(40)\n",
    "    font.color.rgb = RGBColor(0,255,222)\n",
    "    \n",
    "    icondict()\n",
    "#เราจะเซฟไฟล์นี้ที่ไหนและตั้งชื่อมันว่าอะไร    \n",
    "prs.save(\"D:/pptxmaker/mypoint.pptx\")"
   ]
  },
  {
   "cell_type": "code",
   "execution_count": null,
   "metadata": {},
   "outputs": [],
   "source": []
  }
 ],
 "metadata": {
  "kernelspec": {
   "display_name": "Python 3",
   "language": "python",
   "name": "python3"
  },
  "language_info": {
   "codemirror_mode": {
    "name": "ipython",
    "version": 3
   },
   "file_extension": ".py",
   "mimetype": "text/x-python",
   "name": "python",
   "nbconvert_exporter": "python",
   "pygments_lexer": "ipython3",
   "version": "3.7.4"
  }
 },
 "nbformat": 4,
 "nbformat_minor": 2
}
